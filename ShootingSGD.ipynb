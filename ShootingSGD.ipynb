{
 "cells": [
  {
   "cell_type": "code",
   "execution_count": 1361,
   "metadata": {
    "scrolled": false
   },
   "outputs": [
    {
     "data": {
      "text/plain": [
       "'%.3f'"
      ]
     },
     "execution_count": 1361,
     "metadata": {},
     "output_type": "execute_result"
    }
   ],
   "source": [
    "import numpy as np\n",
    "import importlib\n",
    "import three_cart.simulator as sim\n",
    "np.set_printoptions(precision=3, suppress=True)\n",
    "import matplotlib.pyplot as plt\n",
    "import torch \n",
    "import time\n",
    "from torch.autograd import Variable\n",
    "import torch.optim as optim\n",
    "torch.set_printoptions(precision=3, sci_mode=False)\n",
    "%precision 3"
   ]
  },
  {
   "cell_type": "code",
   "execution_count": 1323,
   "metadata": {
    "scrolled": false
   },
   "outputs": [
    {
     "data": {
      "text/plain": [
       "<module 'three_cart.simulator' from '/home/felix/soft_contact/three_cart/simulator.py'>"
      ]
     },
     "execution_count": 1323,
     "metadata": {},
     "output_type": "execute_result"
    }
   ],
   "source": [
    "importlib.reload(sim)"
   ]
  },
  {
   "cell_type": "markdown",
   "metadata": {},
   "source": [
    "# Predefined inputs"
   ]
  },
  {
   "cell_type": "code",
   "execution_count": 1350,
   "metadata": {
    "scrolled": false
   },
   "outputs": [],
   "source": [
    "def simulate(simulator, init_state, inputs):\n",
    "    # recorder trajectories\n",
    "    timesteps = inputs.shape[1]\n",
    "    x_trajectory = np.zeros((6, timesteps))\n",
    "    x_trajectory[:,0] = init_state\n",
    "    lambda_trajectory = np.zeros((2, timesteps))\n",
    "    # forward simulate\n",
    "    simulator.set_state(init_state)\n",
    "    for t in range(inputs.shape[1]):\n",
    "        simulator.step(inputs[:, t]) # Control input\n",
    "        x_trajectory[:,t] = simulator.get_state()\n",
    "        lambda_trajectory[:,t] = simulator.get_contact()\n",
    "    return x_trajectory, lambda_trajectory"
   ]
  },
  {
   "cell_type": "code",
   "execution_count": 1369,
   "metadata": {
    "scrolled": false
   },
   "outputs": [],
   "source": [
    "# hyper params set 1\n",
    "timesteps = 10000\n",
    "init_state = np.array([100, 0, 300, 0, 400, 0]).astype(np.double)\n",
    "inputs = np.array([[10, -10] for i in range(timesteps)]).T\n",
    "params = {'m': 1.,  # mass\n",
    "          'c': 3.0,  # viscosity\n",
    "          'k': 100.0,  # elasticity\n",
    "          'd': 80,    # cart length\n",
    "          'w': 50,    # cart height (just for visualization) \n",
    "          'h': 0.01,   # time step\n",
    "          't': 0.0}   # sleep time before redrawing on canvas"
   ]
  },
  {
   "cell_type": "markdown",
   "metadata": {},
   "source": [
    "## Simulate with predefined inputs"
   ]
  },
  {
   "cell_type": "code",
   "execution_count": 1352,
   "metadata": {
    "scrolled": false
   },
   "outputs": [],
   "source": [
    "try:\n",
    "    C.tk.destroy()\n",
    "except:\n",
    "    pass\n",
    "C = sim.CartSimulator(gui=True, video=True)\n",
    "for key, value in params.items():\n",
    "    C.set_parameters(key, value)\n",
    "x_trajectory, lambda_trajectory = simulate(C, init_state, inputs)"
   ]
  },
  {
   "cell_type": "code",
   "execution_count": 1353,
   "metadata": {
    "scrolled": false
   },
   "outputs": [
    {
     "data": {
      "text/plain": [
       "<matplotlib.legend.Legend at 0x7fa4f46cb0b8>"
      ]
     },
     "execution_count": 1353,
     "metadata": {},
     "output_type": "execute_result"
    },
    {
     "data": {
      "image/png": "[encoded data removed]",
      "text/plain": [
       "<Figure size 864x288 with 2 Axes>"
      ]
     },
     "metadata": {
      "needs_background": "light"
     },
     "output_type": "display_data"
    }
   ],
   "source": [
    "# plotting\n",
    "fig = plt.figure(figsize=(12, 4))\n",
    "ax = fig.add_subplot(1,2,1)\n",
    "ax.plot(range(timesteps), lambda_trajectory[0,:])\n",
    "ax.plot(range(timesteps), lambda_trajectory[1,:])\n",
    "ax.legend(['Contact 1', 'Contact 2'])\n",
    "ax = fig.add_subplot(1,2,2)\n",
    "ax.plot(range(timesteps), x_trajectory[0,:])\n",
    "ax.plot(range(timesteps), x_trajectory[2,:])\n",
    "ax.plot(range(timesteps), x_trajectory[4,:])\n",
    "ax.legend(['Cart 1', 'Cart 2', 'Cart 3'])"
   ]
  },
  {
   "cell_type": "code",
   "execution_count": 1370,
   "metadata": {
    "scrolled": false
   },
   "outputs": [
    {
     "data": {
      "text/plain": [
       "array([186.767,  -0.   , 266.667,   0.   , 346.567,   0.   ])"
      ]
     },
     "execution_count": 1370,
     "metadata": {},
     "output_type": "execute_result"
    }
   ],
   "source": [
    "goal_state = C.get_state()\n",
    "goal_state"
   ]
  },
  {
   "cell_type": "code",
   "execution_count": 1355,
   "metadata": {
    "scrolled": false
   },
   "outputs": [],
   "source": [
    "C.tk.destroy()"
   ]
  },
  {
   "cell_type": "markdown",
   "metadata": {},
   "source": [
    "# Single Shooting to find inputs"
   ]
  },
  {
   "cell_type": "code",
   "execution_count": 1363,
   "metadata": {
    "scrolled": false
   },
   "outputs": [],
   "source": [
    "# tensorized version of cart simulator class\n",
    "class CartSimTensorized(sim.CartSimulator):\n",
    "    def __init__(self, timesteps, params):\n",
    "        super(CartSimTensorized, self).__init__(gui=False, video=False)\n",
    "        self.timesteps = timesteps\n",
    "        self.goal_state = torch.zeros(6).double()\n",
    "        self.states = torch.zeros(6, self.timesteps+1).double()\n",
    "        self.forces = torch.zeros(2, self.timesteps).double()\n",
    "        for key, value in params.items():\n",
    "            self.set_parameters(key, value)\n",
    "\n",
    "    def set_states(self, state, t):\n",
    "        assert len(state) == 6\n",
    "        self.states[:, t] = torch.tensor(state).double() #automatically creates a copy\n",
    "\n",
    "    # Semi-implicit time-stepping for dynamics integration\n",
    "    def forward_pass(self, inputs):\n",
    "        # forward integrate to obtain a target state\n",
    "        for t in range(self.timesteps):\n",
    "            # Compute contact forces first\n",
    "            lambda1 = torch.nn.ReLU()(-self.params['k'] * (self.states[2,t] - self.states[0,t] - self.params['d']))\n",
    "            lambda2 = torch.nn.ReLU()(-self.params['k'] * (self.states[4,t] - self.states[2,t] - self.params['d']))\n",
    "            self.forces[:,t] = torch.stack([lambda1, lambda2]).double().detach()\n",
    "\n",
    "            # Propagate velocities ### EXAMINE HERE IF LAMBDA1 CAN BE USED\n",
    "            self.states[1,t+1] = self.states[1,t] + self.params['h'] * \\\n",
    "                                (-self.params['c'] * self.states[1,t] - lambda1 + inputs[0,t])\n",
    "            self.states[3,t+1] = self.states[3,t] + self.params['h'] * \\\n",
    "                                (-self.params['c'] * self.states[3,t] + lambda1 - lambda2)\n",
    "            self.states[5,t+1] = self.states[5,t] + self.params['h'] * \\\n",
    "                                (-self.params['c'] * self.states[5,t] + lambda2 + inputs[1,t])\n",
    "\n",
    "            # Propagate positions at t with velocities at t+1\n",
    "            self.states[[0,2,4],t+1] = self.states[[0,2,4],t] + self.params['h'] * self.states[[1,3,5],t+1]\n",
    "            \n",
    "        return self.states[:, -1] "
   ]
  },
  {
   "cell_type": "markdown",
   "metadata": {},
   "source": [
    "## Update params to make optimization horizon shorter"
   ]
  },
  {
   "cell_type": "code",
   "execution_count": 1371,
   "metadata": {
    "scrolled": false
   },
   "outputs": [
    {
     "name": "stdout",
     "output_type": "stream",
     "text": [
      "[186.767  -0.    266.667   0.    346.567   0.   ]\n",
      "[100.   0. 300.   0. 400.   0.]\n"
     ]
    }
   ],
   "source": [
    "# obtain goal states from simulation with predefined inputs\n",
    "print(goal_state)\n",
    "print(init_state)\n",
    "goal_state = torch.tensor(goal_state)\n",
    "init_state = torch.tensor(init_state)\n",
    "# CSGD.set_states(init_state, 0)"
   ]
  },
  {
   "cell_type": "code",
   "execution_count": 1372,
   "metadata": {
    "scrolled": false
   },
   "outputs": [],
   "source": [
    "# inputs candidate 1 \n",
    "guess_inputs = np.array([[0, 0] for i in range(timesteps)]).T\n",
    "\n",
    "# inputs candidata 2\n",
    "# guess_inputs = np.random.uniform(-100, 100, (2, timesteps))"
   ]
  },
  {
   "cell_type": "code",
   "execution_count": 1373,
   "metadata": {
    "scrolled": true
   },
   "outputs": [
    {
     "name": "stderr",
     "output_type": "stream",
     "text": [
      "/home/felix/.envs/habitatenv/lib/python3.6/site-packages/ipykernel_launcher.py:14: UserWarning: To copy construct from a tensor, it is recommended to use sourceTensor.clone().detach() or sourceTensor.clone().detach().requires_grad_(True), rather than torch.tensor(sourceTensor).\n",
      "  \n"
     ]
    },
    {
     "name": "stdout",
     "output_type": "stream",
     "text": [
      "loss:  1915.781\n",
      "loss:  211.236\n",
      "loss:  12.520\n",
      "loss:  2.090\n",
      "loss:  1.541\n",
      "Training takes in 1m 5s\n"
     ]
    }
   ],
   "source": [
    "# training procedure \n",
    "# training hyper params\n",
    "lr = 50\n",
    "epochs = 5\n",
    "input_loss_weight = 0.000005\n",
    "\n",
    "# training stepup\n",
    "guess_inputs = torch.tensor(guess_inputs, requires_grad=True, dtype=torch.double)\n",
    "optimizer = optim.SGD([guess_inputs], lr=lr)\n",
    "losses = np.zeros(epochs)\n",
    "#record time\n",
    "since = time.time()\n",
    "\n",
    "# start training \n",
    "for epoch in range(epochs):\n",
    "    CSGD = CartSimTensorized(timesteps, params)\n",
    "    CSGD.set_states(init_state, 0)\n",
    "    final_state = CSGD.forward_pass(guess_inputs)\n",
    "    # terminal loss\n",
    "    terminal_loss = ((final_state - goal_state)**2).mean()\n",
    "    # input L2 regulation\n",
    "    input_loss = torch.sum(guess_inputs * guess_inputs)\n",
    "    # total loss\n",
    "    loss = terminal_loss + input_loss_weight*input_loss\n",
    "    loss.backward()\n",
    "    optimizer.step()\n",
    "    optimizer.zero_grad()\n",
    "    losses[epoch] = loss.data.numpy()\n",
    "    if True :\n",
    "        print('loss: ', '{:.3f}'.format(loss.data.numpy()))\n",
    "\n",
    "time_elapsed = time.time() - since\n",
    "print('Training takes in {:.0f}m {:.0f}s'.format(time_elapsed // 60,\n",
    "                                                time_elapsed % 60))\n",
    "    "
   ]
  },
  {
   "cell_type": "code",
   "execution_count": 1374,
   "metadata": {},
   "outputs": [
    {
     "data": {
      "text/plain": [
       "tensor([[ 3.889,  3.889,  3.889,  ...,  0.387,  0.279,  0.167],\n",
       "        [-3.884, -3.884, -3.884,  ..., -0.411, -0.304, -0.193]],\n",
       "       dtype=torch.float64, requires_grad=True)"
      ]
     },
     "execution_count": 1374,
     "metadata": {},
     "output_type": "execute_result"
    }
   ],
   "source": [
    "guess_inputs"
   ]
  },
  {
   "cell_type": "code",
   "execution_count": 1375,
   "metadata": {},
   "outputs": [],
   "source": [
    "try:\n",
    "    C.tk.destroy()\n",
    "except:\n",
    "    pass\n",
    "C = sim.CartSimulator(gui=True, video=True)\n",
    "for key, value in params.items():\n",
    "    C.set_parameters(key, value)\n",
    "x_trajectory, lambda_trajectory = simulate(C, init_state.numpy(), guess_inputs)"
   ]
  },
  {
   "cell_type": "code",
   "execution_count": 1376,
   "metadata": {
    "scrolled": false
   },
   "outputs": [
    {
     "data": {
      "image/png": "[encoded data removed]",
      "text/plain": [
       "<Figure size 1080x720 with 4 Axes>"
      ]
     },
     "metadata": {
      "needs_background": "light"
     },
     "output_type": "display_data"
    }
   ],
   "source": [
    "plt.figure(figsize=(15, 10))\n",
    "plt.subplot(2,2,1)\n",
    "plt.plot(range(timesteps), CSGD.forces[0,:])\n",
    "plt.plot(range(timesteps), CSGD.forces[1,:])\n",
    "plt.legend(['Contact 1', 'Contact 2'])\n",
    "plt.subplot(2,2,2)\n",
    "plt.plot(range(timesteps+1), CSGD.states[0,:].detach())\n",
    "plt.plot(range(timesteps+1), CSGD.states[2,:].detach())\n",
    "plt.plot(range(timesteps+1), CSGD.states[4,:].detach())\n",
    "plt.legend(['Cart 1', 'Cart 2', 'Cart 3'])\n",
    "plt.subplot(2,2,3)\n",
    "plt.plot(range(timesteps), guess_inputs[0,:].detach())\n",
    "plt.plot(range(timesteps), guess_inputs[1,:].detach())\n",
    "plt.legend(['input 1', 'input 2'])\n",
    "plt.subplot(2,2,4)\n",
    "plt.plot(range(epochs), losses)\n",
    "plt.legend(['loss evolution'])\n",
    "plt.show()"
   ]
  },
  {
   "cell_type": "code",
   "execution_count": 1377,
   "metadata": {
    "scrolled": false
   },
   "outputs": [],
   "source": [
    "C.tk.destroy()"
   ]
  },
  {
   "cell_type": "code",
   "execution_count": 1312,
   "metadata": {},
   "outputs": [],
   "source": [
    "C.save_video('10000.avi')"
   ]
  }
 ],
 "metadata": {
  "kernelspec": {
   "display_name": "Python 3",
   "language": "python",
   "name": "python3"
  },
  "language_info": {
   "codemirror_mode": {
    "name": "ipython",
    "version": 3
   },
   "file_extension": ".py",
   "mimetype": "text/x-python",
   "name": "python",
   "nbconvert_exporter": "python",
   "pygments_lexer": "ipython3",
   "version": "3.6.9"
  }
 },
 "nbformat": 4,
 "nbformat_minor": 4
}
