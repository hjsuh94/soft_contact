{
 "cells": [
  {
   "cell_type": "code",
   "execution_count": 1,
   "metadata": {
    "scrolled": false
   },
   "outputs": [
    {
     "name": "stdout",
     "output_type": "stream",
     "text": [
      "/home/hsuh/soft_contact\n"
     ]
    },
    {
     "ename": "ImportError",
     "evalue": "No module named three_cart.simulator",
     "output_type": "error",
     "traceback": [
      "\u001b[0;31m---------------------------------------------------------------------------\u001b[0m",
      "\u001b[0;31mImportError\u001b[0m                               Traceback (most recent call last)",
      "\u001b[0;32m<ipython-input-1-0095e21cc434>\u001b[0m in \u001b[0;36m<module>\u001b[0;34m()\u001b[0m\n\u001b[1;32m      4\u001b[0m \u001b[0;32mimport\u001b[0m \u001b[0mnumpy\u001b[0m \u001b[0;32mas\u001b[0m \u001b[0mnp\u001b[0m\u001b[0;34m\u001b[0m\u001b[0m\n\u001b[1;32m      5\u001b[0m \u001b[0;32mimport\u001b[0m \u001b[0mimportlib\u001b[0m\u001b[0;34m\u001b[0m\u001b[0m\n\u001b[0;32m----> 6\u001b[0;31m \u001b[0;32mimport\u001b[0m \u001b[0mthree_cart\u001b[0m\u001b[0;34m.\u001b[0m\u001b[0msimulator\u001b[0m \u001b[0;32mas\u001b[0m \u001b[0msim\u001b[0m\u001b[0;34m\u001b[0m\u001b[0m\n\u001b[0m\u001b[1;32m      7\u001b[0m \u001b[0mnp\u001b[0m\u001b[0;34m.\u001b[0m\u001b[0mset_printoptions\u001b[0m\u001b[0;34m(\u001b[0m\u001b[0mprecision\u001b[0m\u001b[0;34m=\u001b[0m\u001b[0;36m3\u001b[0m\u001b[0;34m,\u001b[0m \u001b[0msuppress\u001b[0m\u001b[0;34m=\u001b[0m\u001b[0mTrue\u001b[0m\u001b[0;34m)\u001b[0m\u001b[0;34m\u001b[0m\u001b[0m\n\u001b[1;32m      8\u001b[0m \u001b[0;32mimport\u001b[0m \u001b[0mmatplotlib\u001b[0m\u001b[0;34m.\u001b[0m\u001b[0mpyplot\u001b[0m \u001b[0;32mas\u001b[0m \u001b[0mplt\u001b[0m\u001b[0;34m\u001b[0m\u001b[0m\n",
      "\u001b[0;31mImportError\u001b[0m: No module named three_cart.simulator"
     ]
    }
   ],
   "source": [
    "import os, \n",
    "print(os.getcwd())\n",
    "\n",
    "import numpy as np\n",
    "import importlib\n",
    "import three_cart.simulator as sim\n",
    "np.set_printoptions(precision=3, suppress=True)\n",
    "import matplotlib.pyplot as plt\n",
    "import torch \n",
    "from torch.autograd import Variable\n",
    "import torch.optim as optim\n",
    "torch.set_printoptions(precision=3, sci_mode=False)\n",
    "%precision 3"
   ]
  },
  {
   "cell_type": "code",
   "execution_count": 3,
   "metadata": {
    "scrolled": false
   },
   "outputs": [
    {
     "ename": "AttributeError",
     "evalue": "'module' object has no attribute 'reload'",
     "output_type": "error",
     "traceback": [
      "\u001b[0;31m---------------------------------------------------------------------------\u001b[0m",
      "\u001b[0;31mAttributeError\u001b[0m                            Traceback (most recent call last)",
      "\u001b[0;32m<ipython-input-3-cd21e0fe89dd>\u001b[0m in \u001b[0;36m<module>\u001b[0;34m()\u001b[0m\n\u001b[0;32m----> 1\u001b[0;31m \u001b[0mimportlib\u001b[0m\u001b[0;34m.\u001b[0m\u001b[0mreload\u001b[0m\u001b[0;34m(\u001b[0m\u001b[0msim\u001b[0m\u001b[0;34m)\u001b[0m\u001b[0;34m\u001b[0m\u001b[0m\n\u001b[0m",
      "\u001b[0;31mAttributeError\u001b[0m: 'module' object has no attribute 'reload'"
     ]
    }
   ],
   "source": [
    "importlib.reload(sim)"
   ]
  },
  {
   "cell_type": "markdown",
   "metadata": {},
   "source": [
    "# Predefined inputs"
   ]
  },
  {
   "cell_type": "code",
   "execution_count": 812,
   "metadata": {
    "scrolled": false
   },
   "outputs": [],
   "source": [
    "def simulate(simulator, init_state, inputs):\n",
    "    # recorder trajectories\n",
    "    timesteps = inputs.shape[1]\n",
    "    x_trajectory = np.zeros((6, timesteps))\n",
    "    x_trajectory[:,0] = init_state\n",
    "    lambda_trajectory = np.zeros((2, timesteps))\n",
    "    # forward simulate\n",
    "    simulator.set_state(init_state)\n",
    "    for t in range(inputs.shape[1]):\n",
    "        simulator.step(inputs[:, t]) # Control input\n",
    "        x_trajectory[:,t] = simulator.get_state()\n",
    "        lambda_trajectory[:,t] = simulator.get_contact()\n",
    "    return x_trajectory, lambda_trajectory"
   ]
  },
  {
   "cell_type": "code",
   "execution_count": 811,
   "metadata": {
    "scrolled": false
   },
   "outputs": [],
   "source": [
    "# hyper params set 1\n",
    "timesteps = 10000\n",
    "init_state = np.array([100, 0, 300, 0, 400, 0]).astype(np.double)\n",
    "inputs = np.array([[5, -5] for i in range(timesteps)]).T\n",
    "params = {'m': 1.,  # mass\n",
    "          'c': 3.0,  # viscosity\n",
    "          'k': 10.0,  # elasticity\n",
    "          'd': 80,    # cart length\n",
    "          'w': 50,    # cart height (just for visualization) \n",
    "          'h': 0.01,   # time step\n",
    "          't': 0.0}   # sleep time before redrawing on canvas"
   ]
  },
  {
   "cell_type": "code",
   "execution_count": 1022,
   "metadata": {
    "scrolled": false
   },
   "outputs": [],
   "source": [
    "# hyper params set 2\n",
    "timesteps = 50\n",
    "init_state = np.array([100, 0, 280, 0, 400, 0]).astype(np.double)\n",
    "inputs = np.array([[50, -50] for i in range(timesteps)]).T\n",
    "params = {'m': 1.,  # mass\n",
    "          'c': 3.0,  # viscosity\n",
    "          'k': 10.0,  # elasticity\n",
    "          'd': 100,    # cart length\n",
    "          'w': 200,    # cart height (just for visualization) \n",
    "          'h': 0.1,   # time step\n",
    "          't': 0.05}   # sleep time before redrawing on canvas"
   ]
  },
  {
   "cell_type": "code",
   "execution_count": 1075,
   "metadata": {},
   "outputs": [],
   "source": [
    "# hyper params set 3\n",
    "timesteps = 50\n",
    "init_state = np.array([100, 0, 300, 0, 400, 0]).astype(np.double)\n",
    "inputs = np.array([[40, -40] for i in range(timesteps)]).T\n",
    "params = {'m': 1.,  # mass\n",
    "          'c': 2,  # viscosity\n",
    "          'k': 10.0,  # elasticity\n",
    "          'd': 80,    # cart length\n",
    "          'w': 50,    # cart height (just for visualization) \n",
    "          'h': 0.1,   # time step\n",
    "          't': 0.05}   # sleep time before redrawing on canvas"
   ]
  },
  {
   "cell_type": "markdown",
   "metadata": {},
   "source": [
    "## Simulate"
   ]
  },
  {
   "cell_type": "code",
   "execution_count": 1093,
   "metadata": {
    "scrolled": false
   },
   "outputs": [],
   "source": [
    "try:\n",
    "    C.tk.destroy()\n",
    "except:\n",
    "    pass\n",
    "C = sim.CartSimulator(gui=True, video=True)\n",
    "for key, value in params.items():\n",
    "    C.set_parameters(key, value)\n",
    "x_trajectory, lambda_trajectory = simulate(C, init_state, inputs)"
   ]
  },
  {
   "cell_type": "code",
   "execution_count": 1077,
   "metadata": {
    "scrolled": false
   },
   "outputs": [
    {
     "data": {
      "text/plain": [
       "<matplotlib.legend.Legend at 0x7fa4f47e7940>"
      ]
     },
     "execution_count": 1077,
     "metadata": {},
     "output_type": "execute_result"
    },
    {
     "data": {
      "image/png": "[encoded data removed]",
      "text/plain": [
       "<Figure size 864x288 with 2 Axes>"
      ]
     },
     "metadata": {
      "needs_background": "light"
     },
     "output_type": "display_data"
    }
   ],
   "source": [
    "# plotting\n",
    "fig = plt.figure(figsize=(12, 4))\n",
    "ax = fig.add_subplot(1,2,1)\n",
    "ax.plot(range(timesteps), lambda_trajectory[0,:])\n",
    "ax.plot(range(timesteps), lambda_trajectory[1,:])\n",
    "ax.legend(['Contact 1', 'Contact 2'])\n",
    "ax = fig.add_subplot(1,2,2)\n",
    "ax.plot(range(timesteps), x_trajectory[0,:])\n",
    "ax.plot(range(timesteps), x_trajectory[2,:])\n",
    "ax.plot(range(timesteps), x_trajectory[4,:])\n",
    "ax.legend(['Cart 1', 'Cart 2', 'Cart 3'])"
   ]
  },
  {
   "cell_type": "code",
   "execution_count": 1078,
   "metadata": {
    "scrolled": false
   },
   "outputs": [
    {
     "data": {
      "text/plain": [
       "array([191.442,  15.404, 265.528,  -5.66 , 343.03 ,  -9.744])"
      ]
     },
     "execution_count": 1078,
     "metadata": {},
     "output_type": "execute_result"
    }
   ],
   "source": [
    "goal_state = C.get_state()\n",
    "goal_state"
   ]
  },
  {
   "cell_type": "code",
   "execution_count": 1079,
   "metadata": {
    "scrolled": false
   },
   "outputs": [],
   "source": [
    "C.tk.destroy()"
   ]
  },
  {
   "cell_type": "markdown",
   "metadata": {},
   "source": [
    "# Single Shooting to find inputs"
   ]
  },
  {
   "cell_type": "code",
   "execution_count": 743,
   "metadata": {
    "scrolled": false
   },
   "outputs": [],
   "source": [
    "# tensorized version of cart simulator class\n",
    "class CartSimTensorized(sim.CartSimulator):\n",
    "    def __init__(self, timesteps):\n",
    "        super(CartSimTensorized, self).__init__(gui=False, video=False)\n",
    "        self.timesteps = timesteps\n",
    "        self.goal_state = torch.zeros(6).double()\n",
    "        self.states = torch.zeros(6, self.timesteps+1).double()\n",
    "        self.forces = torch.zeros(2, self.timesteps).double()\n",
    "\n",
    "    def set_states(self, state, t):\n",
    "        assert len(state) == 6\n",
    "        self.states[:, t] = torch.tensor(state).double() #automatically creates a copy\n",
    "\n",
    "    # Semi-implicit time-stepping for dynamics integration\n",
    "    def forward_pass(self, inputs):\n",
    "        # forward integrate to obtain a target state\n",
    "        for t in range(self.timesteps):\n",
    "            # Compute contact forces first\n",
    "            lambda1 = torch.nn.ReLU()(-self.params['k'] * (self.states[2,t] - self.states[0,t] - self.params['d']))\n",
    "            lambda2 = torch.nn.ReLU()(-self.params['k'] * (self.states[4,t] - self.states[2,t] - self.params['d']))\n",
    "            self.forces[:,t] = torch.stack([lambda1, lambda2]).double().detach()\n",
    "\n",
    "            # Propagate velocities ### EXAMINE HERE IF LAMBDA1 CAN BE USED\n",
    "            self.states[1,t+1] = self.states[1,t] + self.params['h'] * \\\n",
    "                                (-self.params['c'] * self.states[1,t] - lambda1 + inputs[0,t])\n",
    "            self.states[3,t+1] = self.states[3,t] + self.params['h'] * \\\n",
    "                                (-self.params['c'] * self.states[3,t] + lambda1 - lambda2)\n",
    "            self.states[5,t+1] = self.states[5,t] + self.params['h'] * \\\n",
    "                                (-self.params['c'] * self.states[5,t] + lambda2 + inputs[1,t])\n",
    "\n",
    "            # Propagate positions at t with velocities at t+1\n",
    "            self.states[[0,2,4],t+1] = self.states[[0,2,4],t] + self.params['h'] * self.states[[1,3,5],t+1]\n",
    "            \n",
    "        return self.states[:, -1] "
   ]
  },
  {
   "cell_type": "markdown",
   "metadata": {},
   "source": [
    "## Update params to make optimization horizon shorter"
   ]
  },
  {
   "cell_type": "code",
   "execution_count": 1080,
   "metadata": {
    "scrolled": false
   },
   "outputs": [
    {
     "name": "stdout",
     "output_type": "stream",
     "text": [
      "[191.442  15.404 265.528  -5.66  343.03   -9.744]\n",
      "[100.   0. 300.   0. 400.   0.]\n"
     ]
    }
   ],
   "source": [
    "# obtain goal states from simulation with predefined inputs\n",
    "print(goal_state)\n",
    "print(init_state)\n",
    "goal_state = torch.tensor(goal_state)\n",
    "CSGD.set_states(init_state, 0)"
   ]
  },
  {
   "cell_type": "code",
   "execution_count": 1087,
   "metadata": {
    "scrolled": false
   },
   "outputs": [],
   "source": [
    "# inputs candidate 1 \n",
    "\n",
    "# for hyper params set 1 - 10000 timesteps (not working)\n",
    "# guess_inputs = np.array([[20, -20] for i in range(timesteps)]).T\n",
    "\n",
    "# for hyper params set 2 - 100 timesteps\n",
    "guess_inputs = np.array([[0, 0] for i in range(timesteps)]).T"
   ]
  },
  {
   "cell_type": "code",
   "execution_count": 1048,
   "metadata": {
    "scrolled": false
   },
   "outputs": [],
   "source": [
    "# inputs candidate 2\n",
    "\n",
    "# for hyper params set 1 - 100 timesteps (not working)\n",
    "# guess_inputs = np.random.uniform(-1, 1, (2, timesteps))\n",
    "\n",
    "# for hyper params set 2 - 100 timesteps\n",
    "guess_inputs = np.random.uniform(-100, 100, (2, timesteps))"
   ]
  },
  {
   "cell_type": "code",
   "execution_count": 1088,
   "metadata": {
    "scrolled": true
   },
   "outputs": [
    {
     "name": "stdout",
     "output_type": "stream",
     "text": [
      "2193.308\n",
      "1588.244\n",
      "1191.600\n",
      "914.460\n",
      "719.185\n",
      "580.330\n",
      "480.626\n",
      "408.301\n",
      "355.282\n",
      "316.005\n",
      "286.605\n",
      "270.869\n",
      "265.082\n",
      "260.561\n",
      "256.759\n",
      "253.535\n",
      "250.778\n",
      "248.398\n",
      "246.327\n",
      "244.508\n",
      "242.896\n",
      "241.457\n",
      "240.162\n",
      "238.988\n",
      "237.917\n",
      "236.933\n",
      "236.024\n",
      "235.181\n",
      "234.395\n",
      "233.660\n",
      "232.969\n",
      "232.319\n",
      "231.742\n",
      "231.571\n",
      "230.780\n",
      "230.547\n",
      "229.944\n",
      "229.609\n",
      "229.179\n",
      "228.750\n",
      "228.478\n",
      "227.959\n",
      "227.831\n",
      "227.229\n",
      "227.234\n",
      "226.659\n",
      "226.409\n",
      "226.170\n",
      "225.939\n",
      "225.716\n",
      "225.500\n",
      "225.291\n",
      "225.090\n",
      "224.895\n",
      "224.706\n",
      "224.524\n",
      "224.347\n",
      "224.176\n",
      "224.011\n",
      "223.852\n",
      "223.697\n",
      "223.547\n",
      "223.403\n",
      "223.263\n",
      "223.127\n",
      "222.996\n",
      "222.870\n",
      "222.747\n",
      "222.628\n",
      "222.513\n",
      "222.402\n",
      "222.295\n",
      "222.191\n",
      "222.090\n",
      "221.992\n",
      "221.898\n",
      "221.807\n",
      "221.718\n",
      "221.633\n",
      "221.550\n",
      "221.470\n",
      "221.392\n",
      "221.317\n",
      "221.245\n",
      "221.174\n",
      "221.106\n",
      "221.041\n",
      "220.977\n",
      "220.915\n",
      "220.855\n",
      "220.798\n",
      "220.742\n",
      "220.687\n",
      "220.635\n",
      "220.584\n",
      "220.535\n",
      "220.488\n",
      "220.442\n",
      "220.397\n",
      "220.354\n"
     ]
    }
   ],
   "source": [
    "# for timesteps ~ 50, choose lr as large as 10, epochs ~ 100\n",
    "# for timesteps > 50 doesn't quite work\n",
    "lr = 10\n",
    "epochs = 100\n",
    "input_loss_weight = 0.0005\n",
    "guess_inputs = torch.tensor(guess_inputs, requires_grad=True, dtype=torch.double)\n",
    "optimizer = optim.SGD([guess_inputs], lr=lr)\n",
    "losses = np.zeros(epochs)\n",
    "for epoch in range(epochs):\n",
    "    CSGD = CartSimTensorized(timesteps)\n",
    "    CSGD.set_states(init_state, 0)\n",
    "    final_state = CSGD.forward_pass(guess_inputs)\n",
    "    # terminal loss\n",
    "    terminal_loss = ((final_state - goal_state)**2).mean()\n",
    "    # input L2 regulation\n",
    "    input_loss = torch.sum(guess_inputs * guess_inputs)\n",
    "    # total loss\n",
    "    loss = terminal_loss + input_loss_weight*input_loss\n",
    "    loss.backward()\n",
    "    optimizer.step()\n",
    "    optimizer.zero_grad()\n",
    "    losses[epoch] = loss.data.numpy()\n",
    "    if True :\n",
    "        print('{:.3f}'.format(loss.data.numpy()))\n",
    "    "
   ]
  },
  {
   "cell_type": "code",
   "execution_count": 1101,
   "metadata": {
    "scrolled": false
   },
   "outputs": [
    {
     "data": {
      "image/png": "[encoded data removed]",
      "text/plain": [
       "<Figure size 1080x720 with 4 Axes>"
      ]
     },
     "metadata": {
      "needs_background": "light"
     },
     "output_type": "display_data"
    }
   ],
   "source": [
    "plt.figure(figsize=(15, 10))\n",
    "plt.subplot(2,2,1)\n",
    "plt.plot(range(timesteps), CSGD.forces[0,:])\n",
    "plt.plot(range(timesteps), CSGD.forces[1,:])\n",
    "plt.legend(['Contact 1', 'Contact 2'])\n",
    "plt.subplot(2,2,2)\n",
    "plt.plot(range(timesteps+1), CSGD.states[0,:].detach())\n",
    "plt.plot(range(timesteps+1), CSGD.states[2,:].detach())\n",
    "plt.plot(range(timesteps+1), CSGD.states[4,:].detach())\n",
    "plt.legend(['Cart 1', 'Cart 2', 'Cart 3'])\n",
    "plt.subplot(2,2,3)\n",
    "plt.plot(range(timesteps), guess_inputs[0,:].detach())\n",
    "plt.plot(range(timesteps), guess_inputs[1,:].detach())\n",
    "plt.legend(['input 1', 'input 2'])\n",
    "plt.subplot(2,2,4)\n",
    "plt.plot(range(epochs), losses)\n",
    "plt.legend(['loss evolution'])\n",
    "plt.show()"
   ]
  },
  {
   "cell_type": "code",
   "execution_count": 1117,
   "metadata": {
    "scrolled": false
   },
   "outputs": [],
   "source": [
    "try:\n",
    "    C.tk.destroy()\n",
    "except:\n",
    "    pass\n",
    "C = sim.CartSimulator(gui=True, video=True)\n",
    "for key, value in params.items():\n",
    "    C.set_parameters(key, value)\n",
    "x_trajectory, lambda_trajectory = simulate(C, init_state, guess_inputs)"
   ]
  },
  {
   "cell_type": "code",
   "execution_count": 1118,
   "metadata": {
    "scrolled": false
   },
   "outputs": [],
   "source": [
    "C.tk.destroy()"
   ]
  },
  {
   "cell_type": "code",
   "execution_count": null,
   "metadata": {},
   "outputs": [],
   "source": []
  }
 ],
 "metadata": {
  "kernelspec": {
   "display_name": "Python 3",
   "language": "python",
   "name": "python3"
  },
  "language_info": {
   "codemirror_mode": {
    "name": "ipython",
    "version": 2
   },
   "file_extension": ".py",
   "mimetype": "text/x-python",
   "name": "python",
   "nbconvert_exporter": "python",
   "pygments_lexer": "ipython2",
   "version": "2.7.17"
  }
 },
 "nbformat": 4,
 "nbformat_minor": 4
}
